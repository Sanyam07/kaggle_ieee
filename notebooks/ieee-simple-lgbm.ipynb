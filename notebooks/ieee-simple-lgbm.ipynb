{
 "cells": [
  {
   "cell_type": "markdown",
   "metadata": {
    "toc": true
   },
   "source": [
    "<h1>Table of Contents<span class=\"tocSkip\"></span></h1>\n",
    "<div class=\"toc\"><ul class=\"toc-item\"></ul></div>"
   ]
  },
  {
   "cell_type": "code",
   "execution_count": 1,
   "metadata": {
    "ExecuteTime": {
     "end_time": "2019-09-07T08:38:34.891085Z",
     "start_time": "2019-09-07T08:38:33.878545Z"
    },
    "_cell_guid": "b1076dfc-b9ad-4769-8c92-a6c4dae69d19",
    "_uuid": "8f2839f25d086af736a60e9eeb907d3b93b6e0e5"
   },
   "outputs": [],
   "source": [
    "# General imports\n",
    "import numpy as np\n",
    "import pandas as pd\n",
    "import os, sys, gc, warnings, random, datetime\n",
    "\n",
    "from sklearn import metrics\n",
    "from sklearn.model_selection import train_test_split, KFold\n",
    "from sklearn.preprocessing import LabelEncoder\n",
    "\n",
    "from tqdm import tqdm\n",
    "\n",
    "import math\n",
    "warnings.filterwarnings('ignore')"
   ]
  },
  {
   "cell_type": "code",
   "execution_count": 2,
   "metadata": {
    "ExecuteTime": {
     "end_time": "2019-09-07T08:38:36.062029Z",
     "start_time": "2019-09-07T08:38:36.052456Z"
    },
    "_cell_guid": "79c7e3d0-c299-4dcb-8224-4455121ee9b0",
    "_uuid": "d629ff2d2480ee46fbb7e2d37f6b5fab8052498a"
   },
   "outputs": [],
   "source": [
    "########################### Helpers\n",
    "#################################################################################\n",
    "## Seeder\n",
    "# :seed to make all processes deterministic     # type: int\n",
    "def seed_everything(seed=0):\n",
    "    random.seed(seed)\n",
    "    os.environ['PYTHONHASHSEED'] = str(seed)\n",
    "    np.random.seed(seed)\n",
    "    \n",
    "## Memory Reducer\n",
    "# :df pandas dataframe to reduce size             # type: pd.DataFrame()\n",
    "# :verbose                                        # type: bool\n",
    "def reduce_mem_usage(df, verbose=True):\n",
    "    numerics = ['int16', 'int32', 'int64', 'float16', 'float32', 'float64']\n",
    "    start_mem = df.memory_usage().sum() / 1024**2    \n",
    "    for col in df.columns:\n",
    "        col_type = df[col].dtypes\n",
    "        if col_type in numerics:\n",
    "            c_min = df[col].min()\n",
    "            c_max = df[col].max()\n",
    "            if str(col_type)[:3] == 'int':\n",
    "                if c_min > np.iinfo(np.int8).min and c_max < np.iinfo(np.int8).max:\n",
    "                    df[col] = df[col].astype(np.int8)\n",
    "                elif c_min > np.iinfo(np.int16).min and c_max < np.iinfo(np.int16).max:\n",
    "                    df[col] = df[col].astype(np.int16)\n",
    "                elif c_min > np.iinfo(np.int32).min and c_max < np.iinfo(np.int32).max:\n",
    "                    df[col] = df[col].astype(np.int32)\n",
    "                elif c_min > np.iinfo(np.int64).min and c_max < np.iinfo(np.int64).max:\n",
    "                    df[col] = df[col].astype(np.int64)  \n",
    "            else:\n",
    "                if c_min > np.finfo(np.float16).min and c_max < np.finfo(np.float16).max:\n",
    "                    df[col] = df[col].astype(np.float16)\n",
    "                elif c_min > np.finfo(np.float32).min and c_max < np.finfo(np.float32).max:\n",
    "                    df[col] = df[col].astype(np.float32)\n",
    "                else:\n",
    "                    df[col] = df[col].astype(np.float64)    \n",
    "    end_mem = df.memory_usage().sum() / 1024**2\n",
    "    if verbose: print('Mem. usage decreased to {:5.2f} Mb ({:.1f}% reduction)'.format(end_mem, 100 * (start_mem - end_mem) / start_mem))\n",
    "    return df"
   ]
  },
  {
   "cell_type": "code",
   "execution_count": 3,
   "metadata": {
    "ExecuteTime": {
     "end_time": "2019-09-07T08:38:38.329287Z",
     "start_time": "2019-09-07T08:38:38.310242Z"
    }
   },
   "outputs": [],
   "source": [
    "########################### Model\n",
    "import lightgbm as lgb\n",
    "\n",
    "def make_predictions(tr_df, tt_df, features_columns, target, lgb_params, NFOLDS=2):\n",
    "    folds = KFold(n_splits=NFOLDS, shuffle=True, random_state=SEED)\n",
    "\n",
    "    X,y = tr_df[features_columns], tr_df[target]    \n",
    "    P,P_y = tt_df[features_columns], tt_df[target]  \n",
    "\n",
    "    tt_df = tt_df[['TransactionID',target]]    \n",
    "    predictions = np.zeros(len(tt_df))\n",
    "    \n",
    "    for fold_, (trn_idx, val_idx) in enumerate(folds.split(X, y)):\n",
    "        print('Fold:',fold_)\n",
    "        tr_x, tr_y = X.iloc[trn_idx,:], y[trn_idx]\n",
    "        vl_x, vl_y = X.iloc[val_idx,:], y[val_idx]\n",
    "            \n",
    "        print(len(tr_x),len(vl_x))\n",
    "        tr_data = lgb.Dataset(tr_x, label=tr_y)\n",
    "\n",
    "        if LOCAL_TEST:\n",
    "            vl_data = lgb.Dataset(P, label=P_y) \n",
    "        else:\n",
    "            vl_data = lgb.Dataset(vl_x, label=vl_y)  \n",
    "\n",
    "        estimator = lgb.train(\n",
    "            lgb_params,\n",
    "            tr_data,\n",
    "            valid_sets = [tr_data, vl_data],\n",
    "            verbose_eval = 200,\n",
    "        )   \n",
    "        \n",
    "        pp_p = estimator.predict(P)\n",
    "        predictions += pp_p/NFOLDS\n",
    "\n",
    "        if LOCAL_TEST:\n",
    "            feature_imp = pd.DataFrame(sorted(zip(estimator.feature_importance(),X.columns)), columns=['Value','Feature'])\n",
    "            print(feature_imp)\n",
    "        \n",
    "        del tr_x, tr_y, vl_x, vl_y, tr_data, vl_data\n",
    "        gc.collect()\n",
    "        \n",
    "    tt_df['prediction'] = predictions\n",
    "    \n",
    "    return tt_df\n",
    "## -------------------"
   ]
  },
  {
   "cell_type": "code",
   "execution_count": 4,
   "metadata": {
    "ExecuteTime": {
     "end_time": "2019-09-07T08:38:41.128238Z",
     "start_time": "2019-09-07T08:38:41.123345Z"
    }
   },
   "outputs": [],
   "source": [
    "########################### Vars\n",
    "#################################################################################\n",
    "SEED = 42\n",
    "seed_everything(SEED)\n",
    "LOCAL_TEST = False\n",
    "TARGET = 'isFraud'\n",
    "START_DATE = datetime.datetime.strptime('2017-11-30', '%Y-%m-%d')"
   ]
  },
  {
   "cell_type": "code",
   "execution_count": 5,
   "metadata": {
    "ExecuteTime": {
     "end_time": "2019-09-07T08:38:43.083934Z",
     "start_time": "2019-09-07T08:38:43.077339Z"
    }
   },
   "outputs": [],
   "source": [
    "########################### Model params\n",
    "lgb_params = {\n",
    "                    'objective':'binary',\n",
    "                    'boosting_type':'gbdt',\n",
    "                    'metric':'auc',\n",
    "                    'n_jobs':-1,\n",
    "                    'learning_rate':0.01,\n",
    "                    'num_leaves': 2**8,\n",
    "                    'max_depth':-1,\n",
    "                    'tree_learner':'serial',\n",
    "                    'colsample_bytree': 0.7,\n",
    "                    'subsample_freq':1,\n",
    "                    'subsample':0.7,\n",
    "                    'n_estimators':800,\n",
    "                    'max_bin':255,\n",
    "                    'verbose':-1,\n",
    "                    'seed': SEED,\n",
    "                    'early_stopping_rounds':100, \n",
    "                } "
   ]
  },
  {
   "cell_type": "code",
   "execution_count": 6,
   "metadata": {
    "ExecuteTime": {
     "end_time": "2019-09-07T08:39:07.312590Z",
     "start_time": "2019-09-07T08:39:07.309135Z"
    }
   },
   "outputs": [],
   "source": [
    "feature_path = \"../../da\""
   ]
  },
  {
   "cell_type": "code",
   "execution_count": 6,
   "metadata": {},
   "outputs": [
    {
     "name": "stdout",
     "output_type": "stream",
     "text": [
      "Load Data\n",
      "Shape control: (590540, 791) (506691, 791)\n"
     ]
    }
   ],
   "source": [
    "########################### DATA LOAD\n",
    "#################################################################################\n",
    "print('Load Data')\n",
    "train_df = pd.read_pickle('../input/ieee-fe-with-some-eda/train_df.pkl')\n",
    "\n",
    "if LOCAL_TEST:\n",
    "    test_df = train_df[train_df['DT_M']==train_df['DT_M'].max()].reset_index(drop=True)\n",
    "    train_df = train_df[train_df['DT_M']<(train_df['DT_M'].max()-1)].reset_index(drop=True)    \n",
    "else:\n",
    "    test_df = pd.read_pickle('../input/ieee-fe-with-some-eda/test_df.pkl')\n",
    "\n",
    "remove_features = pd.read_pickle('../input/ieee-fe-with-some-eda/remove_features.pkl')\n",
    "remove_features = list(remove_features['features_to_remove'].values)\n",
    "print('Shape control:', train_df.shape, test_df.shape)"
   ]
  },
  {
   "cell_type": "code",
   "execution_count": 7,
   "metadata": {},
   "outputs": [
    {
     "name": "stdout",
     "output_type": "stream",
     "text": [
      "Mem. usage decreased to 1278.41 Mb (41.3% reduction)\n",
      "Mem. usage decreased to 1104.71 Mb (41.1% reduction)\n"
     ]
    }
   ],
   "source": [
    "########################### Final features list\n",
    "features_columns = [col for col in list(train_df) if col not in remove_features]\n",
    "\n",
    "########################### Final Minification\n",
    "train_df = reduce_mem_usage(train_df)\n",
    "test_df  = reduce_mem_usage(test_df)"
   ]
  },
  {
   "cell_type": "code",
   "execution_count": 8,
   "metadata": {},
   "outputs": [
    {
     "name": "stdout",
     "output_type": "stream",
     "text": [
      "Fold: 0\n",
      "516722 73818\n",
      "Training until validation scores don't improve for 100 rounds.\n",
      "[200]\ttraining's auc: 0.949185\tvalid_1's auc: 0.933404\n",
      "[400]\ttraining's auc: 0.975224\tvalid_1's auc: 0.951178\n",
      "[600]\ttraining's auc: 0.988289\tvalid_1's auc: 0.96147\n",
      "[800]\ttraining's auc: 0.994458\tvalid_1's auc: 0.967411\n",
      "[1000]\ttraining's auc: 0.99737\tvalid_1's auc: 0.970838\n",
      "[1200]\ttraining's auc: 0.998731\tvalid_1's auc: 0.972962\n",
      "[1400]\ttraining's auc: 0.999377\tvalid_1's auc: 0.97439\n",
      "[1600]\ttraining's auc: 0.999681\tvalid_1's auc: 0.975579\n",
      "[1800]\ttraining's auc: 0.999834\tvalid_1's auc: 0.976337\n",
      "Did not meet early stopping. Best iteration is:\n",
      "[1800]\ttraining's auc: 0.999834\tvalid_1's auc: 0.976337\n",
      "Fold: 1\n",
      "516722 73818\n",
      "Training until validation scores don't improve for 100 rounds.\n",
      "[200]\ttraining's auc: 0.949235\tvalid_1's auc: 0.931747\n",
      "[400]\ttraining's auc: 0.974681\tvalid_1's auc: 0.951303\n",
      "[600]\ttraining's auc: 0.988131\tvalid_1's auc: 0.962368\n",
      "[800]\ttraining's auc: 0.994274\tvalid_1's auc: 0.968466\n",
      "[1000]\ttraining's auc: 0.997214\tvalid_1's auc: 0.972115\n",
      "[1200]\ttraining's auc: 0.998675\tvalid_1's auc: 0.974266\n",
      "[1400]\ttraining's auc: 0.999344\tvalid_1's auc: 0.975678\n",
      "[1600]\ttraining's auc: 0.999683\tvalid_1's auc: 0.976863\n",
      "[1800]\ttraining's auc: 0.999841\tvalid_1's auc: 0.97769\n",
      "Did not meet early stopping. Best iteration is:\n",
      "[1800]\ttraining's auc: 0.999841\tvalid_1's auc: 0.97769\n",
      "Fold: 2\n",
      "516722 73818\n",
      "Training until validation scores don't improve for 100 rounds.\n",
      "[200]\ttraining's auc: 0.94877\tvalid_1's auc: 0.927152\n",
      "[400]\ttraining's auc: 0.974888\tvalid_1's auc: 0.948335\n",
      "[600]\ttraining's auc: 0.988238\tvalid_1's auc: 0.959189\n",
      "[800]\ttraining's auc: 0.994419\tvalid_1's auc: 0.965694\n",
      "[1000]\ttraining's auc: 0.997313\tvalid_1's auc: 0.969456\n",
      "[1200]\ttraining's auc: 0.998707\tvalid_1's auc: 0.971866\n",
      "[1400]\ttraining's auc: 0.999373\tvalid_1's auc: 0.973495\n",
      "[1600]\ttraining's auc: 0.999684\tvalid_1's auc: 0.974614\n",
      "[1800]\ttraining's auc: 0.999842\tvalid_1's auc: 0.975481\n",
      "Did not meet early stopping. Best iteration is:\n",
      "[1800]\ttraining's auc: 0.999842\tvalid_1's auc: 0.975481\n",
      "Fold: 3\n",
      "516722 73818\n",
      "Training until validation scores don't improve for 100 rounds.\n",
      "[200]\ttraining's auc: 0.950007\tvalid_1's auc: 0.933317\n",
      "[400]\ttraining's auc: 0.975757\tvalid_1's auc: 0.950602\n",
      "[600]\ttraining's auc: 0.988426\tvalid_1's auc: 0.960779\n",
      "[800]\ttraining's auc: 0.994453\tvalid_1's auc: 0.966638\n",
      "[1000]\ttraining's auc: 0.997368\tvalid_1's auc: 0.970154\n",
      "[1200]\ttraining's auc: 0.998709\tvalid_1's auc: 0.972002\n",
      "[1400]\ttraining's auc: 0.999367\tvalid_1's auc: 0.973377\n",
      "[1600]\ttraining's auc: 0.99968\tvalid_1's auc: 0.974328\n",
      "[1800]\ttraining's auc: 0.999837\tvalid_1's auc: 0.97507\n",
      "Did not meet early stopping. Best iteration is:\n",
      "[1800]\ttraining's auc: 0.999837\tvalid_1's auc: 0.97507\n",
      "Fold: 4\n",
      "516723 73817\n",
      "Training until validation scores don't improve for 100 rounds.\n",
      "[200]\ttraining's auc: 0.950247\tvalid_1's auc: 0.928432\n",
      "[400]\ttraining's auc: 0.974923\tvalid_1's auc: 0.947516\n",
      "[600]\ttraining's auc: 0.988171\tvalid_1's auc: 0.95932\n",
      "[800]\ttraining's auc: 0.994361\tvalid_1's auc: 0.966313\n",
      "[1000]\ttraining's auc: 0.99734\tvalid_1's auc: 0.970182\n",
      "[1200]\ttraining's auc: 0.998704\tvalid_1's auc: 0.97244\n",
      "[1400]\ttraining's auc: 0.999365\tvalid_1's auc: 0.973805\n",
      "[1600]\ttraining's auc: 0.999675\tvalid_1's auc: 0.974944\n",
      "[1800]\ttraining's auc: 0.999835\tvalid_1's auc: 0.975834\n",
      "Did not meet early stopping. Best iteration is:\n",
      "[1800]\ttraining's auc: 0.999835\tvalid_1's auc: 0.975834\n",
      "Fold: 5\n",
      "516723 73817\n",
      "Training until validation scores don't improve for 100 rounds.\n",
      "[200]\ttraining's auc: 0.94962\tvalid_1's auc: 0.930387\n",
      "[400]\ttraining's auc: 0.975352\tvalid_1's auc: 0.947899\n",
      "[600]\ttraining's auc: 0.988208\tvalid_1's auc: 0.95876\n",
      "[800]\ttraining's auc: 0.994407\tvalid_1's auc: 0.96515\n",
      "[1000]\ttraining's auc: 0.997285\tvalid_1's auc: 0.968931\n",
      "[1200]\ttraining's auc: 0.998704\tvalid_1's auc: 0.971329\n",
      "[1400]\ttraining's auc: 0.999356\tvalid_1's auc: 0.973002\n",
      "[1600]\ttraining's auc: 0.999684\tvalid_1's auc: 0.974129\n",
      "[1800]\ttraining's auc: 0.999842\tvalid_1's auc: 0.975002\n",
      "Did not meet early stopping. Best iteration is:\n",
      "[1800]\ttraining's auc: 0.999842\tvalid_1's auc: 0.975002\n",
      "Fold: 6\n",
      "516723 73817\n",
      "Training until validation scores don't improve for 100 rounds.\n",
      "[200]\ttraining's auc: 0.949426\tvalid_1's auc: 0.93061\n",
      "[400]\ttraining's auc: 0.974824\tvalid_1's auc: 0.946654\n",
      "[600]\ttraining's auc: 0.988285\tvalid_1's auc: 0.958354\n",
      "[800]\ttraining's auc: 0.994429\tvalid_1's auc: 0.964854\n",
      "[1000]\ttraining's auc: 0.997326\tvalid_1's auc: 0.96819\n",
      "[1200]\ttraining's auc: 0.998707\tvalid_1's auc: 0.970379\n",
      "[1400]\ttraining's auc: 0.999372\tvalid_1's auc: 0.971781\n",
      "[1600]\ttraining's auc: 0.999684\tvalid_1's auc: 0.972877\n",
      "[1800]\ttraining's auc: 0.999844\tvalid_1's auc: 0.973717\n",
      "Did not meet early stopping. Best iteration is:\n",
      "[1800]\ttraining's auc: 0.999844\tvalid_1's auc: 0.973717\n",
      "Fold: 7\n",
      "516723 73817\n",
      "Training until validation scores don't improve for 100 rounds.\n",
      "[200]\ttraining's auc: 0.948735\tvalid_1's auc: 0.923551\n",
      "[400]\ttraining's auc: 0.974645\tvalid_1's auc: 0.943685\n",
      "[600]\ttraining's auc: 0.987945\tvalid_1's auc: 0.955928\n",
      "[800]\ttraining's auc: 0.994318\tvalid_1's auc: 0.962875\n",
      "[1000]\ttraining's auc: 0.997257\tvalid_1's auc: 0.966923\n",
      "[1200]\ttraining's auc: 0.998704\tvalid_1's auc: 0.969249\n",
      "[1400]\ttraining's auc: 0.999366\tvalid_1's auc: 0.970685\n",
      "[1600]\ttraining's auc: 0.999683\tvalid_1's auc: 0.971837\n",
      "[1800]\ttraining's auc: 0.999841\tvalid_1's auc: 0.972719\n",
      "Did not meet early stopping. Best iteration is:\n",
      "[1800]\ttraining's auc: 0.999841\tvalid_1's auc: 0.972719\n"
     ]
    }
   ],
   "source": [
    "########################### Model Train\n",
    "if LOCAL_TEST:\n",
    "    lgb_params['learning_rate'] = 0.01\n",
    "    lgb_params['n_estimators'] = 20000\n",
    "    lgb_params['early_stopping_rounds'] = 100\n",
    "    test_predictions = make_predictions(train_df, test_df, features_columns, TARGET, lgb_params)\n",
    "    print(metrics.roc_auc_score(test_predictions[TARGET], test_predictions['prediction']))\n",
    "else:\n",
    "    lgb_params['learning_rate'] = 0.005\n",
    "    lgb_params['n_estimators'] = 1800\n",
    "    lgb_params['early_stopping_rounds'] = 100    \n",
    "    test_predictions = make_predictions(train_df, test_df, features_columns, TARGET, lgb_params, NFOLDS=8)"
   ]
  },
  {
   "cell_type": "code",
   "execution_count": 9,
   "metadata": {},
   "outputs": [],
   "source": [
    "########################### Export\n",
    "if not LOCAL_TEST:\n",
    "    test_predictions['isFraud'] = test_predictions['prediction']\n",
    "    test_predictions[['TransactionID','isFraud']].to_csv('submission.csv', index=False)"
   ]
  }
 ],
 "metadata": {
  "kernelspec": {
   "display_name": "Python 3",
   "language": "python",
   "name": "python3"
  },
  "language_info": {
   "codemirror_mode": {
    "name": "ipython",
    "version": 3
   },
   "file_extension": ".py",
   "mimetype": "text/x-python",
   "name": "python",
   "nbconvert_exporter": "python",
   "pygments_lexer": "ipython3",
   "version": "3.6.5"
  },
  "toc": {
   "base_numbering": 1,
   "nav_menu": {},
   "number_sections": true,
   "sideBar": true,
   "skip_h1_title": false,
   "title_cell": "Table of Contents",
   "title_sidebar": "Contents",
   "toc_cell": true,
   "toc_position": {},
   "toc_section_display": true,
   "toc_window_display": false
  },
  "varInspector": {
   "cols": {
    "lenName": 16,
    "lenType": 16,
    "lenVar": 40
   },
   "kernels_config": {
    "python": {
     "delete_cmd_postfix": "",
     "delete_cmd_prefix": "del ",
     "library": "var_list.py",
     "varRefreshCmd": "print(var_dic_list())"
    },
    "r": {
     "delete_cmd_postfix": ") ",
     "delete_cmd_prefix": "rm(",
     "library": "var_list.r",
     "varRefreshCmd": "cat(var_dic_list()) "
    }
   },
   "types_to_exclude": [
    "module",
    "function",
    "builtin_function_or_method",
    "instance",
    "_Feature"
   ],
   "window_display": false
  }
 },
 "nbformat": 4,
 "nbformat_minor": 1
}
